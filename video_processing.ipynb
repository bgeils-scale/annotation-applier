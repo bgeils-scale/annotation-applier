{
 "cells": [
  {
   "cell_type": "code",
   "execution_count": 2,
   "id": "powerful-indie",
   "metadata": {},
   "outputs": [],
   "source": [
    "import numpy as np\n",
    "import cv2\n",
    "from urllib.request import Request, urlopen\n",
    "import json, os"
   ]
  },
  {
   "cell_type": "markdown",
   "id": "ranging-encounter",
   "metadata": {},
   "source": [
    "### Helper functions"
   ]
  },
  {
   "cell_type": "code",
   "execution_count": 89,
   "id": "silent-meter",
   "metadata": {},
   "outputs": [],
   "source": [
    "def hex_to_bgr(h):\n",
    "    h = h.lstrip('#')\n",
    "    rgb = tuple(int(h[i:i+2], 16) for i in (0, 2, 4))\n",
    "    return (rgb[2], rgb[1], rgb[0])"
   ]
  },
  {
   "cell_type": "code",
   "execution_count": 90,
   "id": "blank-sender",
   "metadata": {},
   "outputs": [],
   "source": [
    "def get_annotations(url):\n",
    "    '''\n",
    "    Get video annotations from scaleapi-results url\n",
    "    '''\n",
    "    req = Request(url, headers={'User-Agent': 'Mozilla/5.0'})\n",
    "    page = urlopen(req).read().decode('utf8').replace(\"'\", '\"')\n",
    "    return json.loads(page)"
   ]
  },
  {
   "cell_type": "code",
   "execution_count": 91,
   "id": "timely-paris",
   "metadata": {},
   "outputs": [],
   "source": [
    "def url_to_image(url):\n",
    "    req = Request(url, headers={'User-Agent': 'Mozilla/5.0'})\n",
    "    page = urlopen(req).read()\n",
    "    image = np.asarray(bytearray(page), dtype=\"uint8\")\n",
    "    image = cv2.imdecode(image, cv2.IMREAD_COLOR)\n",
    "    return image"
   ]
  },
  {
   "cell_type": "code",
   "execution_count": 92,
   "id": "third-journalist",
   "metadata": {},
   "outputs": [],
   "source": [
    "def draw(img, location, thickness, draw_transparent=False):\n",
    "    \n",
    "    if 'label' in location.keys() and location['label'] in object_lookup:\n",
    "        color = object_lookup[location['label']]\n",
    "    else:\n",
    "        color = (0,255,0)\n",
    "    \n",
    "    if location['type'] == 'box':\n",
    "        top = int(location['top'])\n",
    "        left = int(location['left'])\n",
    "        top_left = (left, top) # (384,0)\n",
    "        bottom_right = (left + int(location['width']), top + int(location['height'])) # (510,128)\n",
    "        cv2.rectangle(img, top_left, bottom_right, color, thickness)\n",
    "    elif location['type'] == 'point':\n",
    "        center_coordinates = (int(location['x']), int(location['y']))\n",
    "        if draw_transparent:\n",
    "            cv2.circle(img, center_coordinates, 3, color, 4)\n",
    "            cv2.circle(img, center_coordinates, 15, color, 2)\n",
    "        else:\n",
    "            cv2.circle(img, center_coordinates, 20, color, 20)\n",
    "            "
   ]
  },
  {
   "cell_type": "code",
   "execution_count": 93,
   "id": "stainless-brisbane",
   "metadata": {},
   "outputs": [],
   "source": [
    "thickness = 1\n",
    "\n",
    "def main(url, annotations, out_file='out'):\n",
    "    img = url_to_image(url)\n",
    "    overlay = img.copy()\n",
    "    \n",
    "    # Apply annotations for boxes\n",
    "    for annotation in annotations:\n",
    "        draw(img, annotation, -1) # draw the opaque\n",
    "    \n",
    "    alpha = 0.8  # Transparency factor.\n",
    "\n",
    "    # Following line overlays transparent rectangle over the image\n",
    "    img_new = cv2.addWeighted(overlay, alpha, img, 1 - alpha, 0)\n",
    "    \n",
    "    # Apply annotations for outlines\n",
    "    for annotation in annotations:\n",
    "        draw(img_new, annotation, thickness, True) \n",
    "    \n",
    "    cv2.imwrite(out_file +'.png', img_new)"
   ]
  },
  {
   "cell_type": "markdown",
   "id": "mature-solomon",
   "metadata": {},
   "source": [
    "### Initialize "
   ]
  },
  {
   "cell_type": "code",
   "execution_count": 96,
   "id": "waiting-campaign",
   "metadata": {},
   "outputs": [],
   "source": [
    "# add all labels and color codes \n",
    "object_lookup = {\n",
    "      \"Car\": hex_to_bgr('#FF9100'),\n",
    "      \"Bus\": hex_to_bgr('#D501F9'),\n",
    "      \"Vehicle with Trailer\": hex_to_bgr('#00E676'),\n",
    "      \"Truck\": hex_to_bgr('#00E5FF'),\n",
    "      \"2-Wheeler\": hex_to_bgr('#FFEA00'),\n",
    "      \"Building\": hex_to_bgr('#6331FF'),\n",
    "      \"Other\": hex_to_bgr('#FFEA00'),\n",
    "      \"Person\": hex_to_bgr('#FFEA00'),\n",
    "      \"vehicle\": hex_to_bgr('#FF9100')\n",
    "}"
   ]
  },
  {
   "cell_type": "code",
   "execution_count": 127,
   "id": "severe-child",
   "metadata": {},
   "outputs": [],
   "source": [
    "# upload the task file prior\n",
    "task_file_name = './parking_lot_boxes.json'"
   ]
  },
  {
   "cell_type": "code",
   "execution_count": 133,
   "id": "applicable-platinum",
   "metadata": {},
   "outputs": [],
   "source": [
    "# get task json and annotations for entire video file\n",
    "with open(task_file_name) as f:\n",
    "    task_json = json.load(f)"
   ]
  },
  {
   "cell_type": "code",
   "execution_count": 129,
   "id": "younger-montana",
   "metadata": {},
   "outputs": [],
   "source": [
    "annotations_url = task_json['attempts'][0]['reviews'][0]['reviewChanges']['annotations']['url']"
   ]
  },
  {
   "cell_type": "code",
   "execution_count": 130,
   "id": "pregnant-particular",
   "metadata": {},
   "outputs": [],
   "source": [
    "annotations = get_annotations(annotations_url)"
   ]
  },
  {
   "cell_type": "code",
   "execution_count": 134,
   "id": "extensive-buffer",
   "metadata": {},
   "outputs": [
    {
     "ename": "KeyError",
     "evalue": "'processed_attachments'",
     "output_type": "error",
     "traceback": [
      "\u001b[0;31m---------------------------------------------------------------------------\u001b[0m",
      "\u001b[0;31mKeyError\u001b[0m                                  Traceback (most recent call last)",
      "\u001b[0;32m<ipython-input-134-a7d710d62c59>\u001b[0m in \u001b[0;36m<module>\u001b[0;34m\u001b[0m\n\u001b[0;32m----> 1\u001b[0;31m \u001b[0mtask_json\u001b[0m\u001b[0;34m[\u001b[0m\u001b[0;34m'processed_attachments'\u001b[0m\u001b[0;34m]\u001b[0m\u001b[0;34m\u001b[0m\u001b[0;34m\u001b[0m\u001b[0m\n\u001b[0m",
      "\u001b[0;31mKeyError\u001b[0m: 'processed_attachments'"
     ]
    }
   ],
   "source": [
    "task_json['processed_attachments']\n"
   ]
  },
  {
   "cell_type": "code",
   "execution_count": null,
   "id": "natural-alliance",
   "metadata": {},
   "outputs": [],
   "source": []
  },
  {
   "cell_type": "code",
   "execution_count": null,
   "id": "absent-lying",
   "metadata": {},
   "outputs": [],
   "source": []
  },
  {
   "cell_type": "code",
   "execution_count": null,
   "id": "interested-lobby",
   "metadata": {},
   "outputs": [],
   "source": [
    "s3_conv_payload = {\"inputObject\":[\"https://scale-us-attachments.s3.amazonaws.com/frame_task_5fff6d82c4c83a00339db361_1610575269831_3840x2160_1.jpg\"],\"expireMs\":36000000}"
   ]
  },
  {
   "cell_type": "code",
   "execution_count": null,
   "id": "fantastic-stevens",
   "metadata": {},
   "outputs": [],
   "source": []
  },
  {
   "cell_type": "code",
   "execution_count": 137,
   "id": "contained-calibration",
   "metadata": {},
   "outputs": [
    {
     "data": {
      "text/plain": [
       "['https://scale-us-attachments.s3.amazonaws.com/frame_task_5fff6d82c4c83a00339db361_1610575269831_3840x2160_1.jpg',\n",
       " 'https://scale-us-attachments.s3.amazonaws.com/frame_task_5fff6d82c4c83a00339db361_1610575269831_3840x2160_2.jpg',\n",
       " 'https://scale-us-attachments.s3.amazonaws.com/frame_task_5fff6d82c4c83a00339db361_1610575269831_3840x2160_3.jpg',\n",
       " 'https://scale-us-attachments.s3.amazonaws.com/frame_task_5fff6d82c4c83a00339db361_1610575269831_3840x2160_4.jpg',\n",
       " 'https://scale-us-attachments.s3.amazonaws.com/frame_task_5fff6d82c4c83a00339db361_1610575269831_3840x2160_5.jpg',\n",
       " 'https://scale-us-attachments.s3.amazonaws.com/frame_task_5fff6d82c4c83a00339db361_1610575269831_3840x2160_6.jpg',\n",
       " 'https://scale-us-attachments.s3.amazonaws.com/frame_task_5fff6d82c4c83a00339db361_1610575269831_3840x2160_7.jpg',\n",
       " 'https://scale-us-attachments.s3.amazonaws.com/frame_task_5fff6d82c4c83a00339db361_1610575269831_3840x2160_8.jpg',\n",
       " 'https://scale-us-attachments.s3.amazonaws.com/frame_task_5fff6d82c4c83a00339db361_1610575269831_3840x2160_9.jpg',\n",
       " 'https://scale-us-attachments.s3.amazonaws.com/frame_task_5fff6d82c4c83a00339db361_1610575269831_3840x2160_10.jpg',\n",
       " 'https://scale-us-attachments.s3.amazonaws.com/frame_task_5fff6d82c4c83a00339db361_1610575269831_3840x2160_11.jpg',\n",
       " 'https://scale-us-attachments.s3.amazonaws.com/frame_task_5fff6d82c4c83a00339db361_1610575269831_3840x2160_12.jpg',\n",
       " 'https://scale-us-attachments.s3.amazonaws.com/frame_task_5fff6d82c4c83a00339db361_1610575269831_3840x2160_13.jpg',\n",
       " 'https://scale-us-attachments.s3.amazonaws.com/frame_task_5fff6d82c4c83a00339db361_1610575269831_3840x2160_14.jpg',\n",
       " 'https://scale-us-attachments.s3.amazonaws.com/frame_task_5fff6d82c4c83a00339db361_1610575269831_3840x2160_15.jpg',\n",
       " 'https://scale-us-attachments.s3.amazonaws.com/frame_task_5fff6d82c4c83a00339db361_1610575269831_3840x2160_16.jpg',\n",
       " 'https://scale-us-attachments.s3.amazonaws.com/frame_task_5fff6d82c4c83a00339db361_1610575269831_3840x2160_17.jpg',\n",
       " 'https://scale-us-attachments.s3.amazonaws.com/frame_task_5fff6d82c4c83a00339db361_1610575269831_3840x2160_18.jpg',\n",
       " 'https://scale-us-attachments.s3.amazonaws.com/frame_task_5fff6d82c4c83a00339db361_1610575269831_3840x2160_19.jpg',\n",
       " 'https://scale-us-attachments.s3.amazonaws.com/frame_task_5fff6d82c4c83a00339db361_1610575269831_3840x2160_20.jpg',\n",
       " 'https://scale-us-attachments.s3.amazonaws.com/frame_task_5fff6d82c4c83a00339db361_1610575269831_3840x2160_21.jpg',\n",
       " 'https://scale-us-attachments.s3.amazonaws.com/frame_task_5fff6d82c4c83a00339db361_1610575269831_3840x2160_22.jpg',\n",
       " 'https://scale-us-attachments.s3.amazonaws.com/frame_task_5fff6d82c4c83a00339db361_1610575269831_3840x2160_23.jpg',\n",
       " 'https://scale-us-attachments.s3.amazonaws.com/frame_task_5fff6d82c4c83a00339db361_1610575269831_3840x2160_24.jpg',\n",
       " 'https://scale-us-attachments.s3.amazonaws.com/frame_task_5fff6d82c4c83a00339db361_1610575269831_3840x2160_25.jpg',\n",
       " 'https://scale-us-attachments.s3.amazonaws.com/frame_task_5fff6d82c4c83a00339db361_1610575269831_3840x2160_26.jpg',\n",
       " 'https://scale-us-attachments.s3.amazonaws.com/frame_task_5fff6d82c4c83a00339db361_1610575269831_3840x2160_27.jpg',\n",
       " 'https://scale-us-attachments.s3.amazonaws.com/frame_task_5fff6d82c4c83a00339db361_1610575269831_3840x2160_28.jpg',\n",
       " 'https://scale-us-attachments.s3.amazonaws.com/frame_task_5fff6d82c4c83a00339db361_1610575269831_3840x2160_29.jpg',\n",
       " 'https://scale-us-attachments.s3.amazonaws.com/frame_task_5fff6d82c4c83a00339db361_1610575269831_3840x2160_30.jpg',\n",
       " 'https://scale-us-attachments.s3.amazonaws.com/frame_task_5fff6d82c4c83a00339db361_1610575269831_3840x2160_31.jpg',\n",
       " 'https://scale-us-attachments.s3.amazonaws.com/frame_task_5fff6d82c4c83a00339db361_1610575269831_3840x2160_32.jpg',\n",
       " 'https://scale-us-attachments.s3.amazonaws.com/frame_task_5fff6d82c4c83a00339db361_1610575269831_3840x2160_33.jpg',\n",
       " 'https://scale-us-attachments.s3.amazonaws.com/frame_task_5fff6d82c4c83a00339db361_1610575269831_3840x2160_34.jpg',\n",
       " 'https://scale-us-attachments.s3.amazonaws.com/frame_task_5fff6d82c4c83a00339db361_1610575269831_3840x2160_35.jpg',\n",
       " 'https://scale-us-attachments.s3.amazonaws.com/frame_task_5fff6d82c4c83a00339db361_1610575269831_3840x2160_36.jpg',\n",
       " 'https://scale-us-attachments.s3.amazonaws.com/frame_task_5fff6d82c4c83a00339db361_1610575269831_3840x2160_37.jpg',\n",
       " 'https://scale-us-attachments.s3.amazonaws.com/frame_task_5fff6d82c4c83a00339db361_1610575269831_3840x2160_38.jpg',\n",
       " 'https://scale-us-attachments.s3.amazonaws.com/frame_task_5fff6d82c4c83a00339db361_1610575269831_3840x2160_39.jpg',\n",
       " 'https://scale-us-attachments.s3.amazonaws.com/frame_task_5fff6d82c4c83a00339db361_1610575269831_3840x2160_40.jpg',\n",
       " 'https://scale-us-attachments.s3.amazonaws.com/frame_task_5fff6d82c4c83a00339db361_1610575269831_3840x2160_41.jpg',\n",
       " 'https://scale-us-attachments.s3.amazonaws.com/frame_task_5fff6d82c4c83a00339db361_1610575269831_3840x2160_42.jpg',\n",
       " 'https://scale-us-attachments.s3.amazonaws.com/frame_task_5fff6d82c4c83a00339db361_1610575269831_3840x2160_43.jpg',\n",
       " 'https://scale-us-attachments.s3.amazonaws.com/frame_task_5fff6d82c4c83a00339db361_1610575269831_3840x2160_44.jpg',\n",
       " 'https://scale-us-attachments.s3.amazonaws.com/frame_task_5fff6d82c4c83a00339db361_1610575269831_3840x2160_45.jpg',\n",
       " 'https://scale-us-attachments.s3.amazonaws.com/frame_task_5fff6d82c4c83a00339db361_1610575269831_3840x2160_46.jpg',\n",
       " 'https://scale-us-attachments.s3.amazonaws.com/frame_task_5fff6d82c4c83a00339db361_1610575269831_3840x2160_47.jpg',\n",
       " 'https://scale-us-attachments.s3.amazonaws.com/frame_task_5fff6d82c4c83a00339db361_1610575269831_3840x2160_48.jpg',\n",
       " 'https://scale-us-attachments.s3.amazonaws.com/frame_task_5fff6d82c4c83a00339db361_1610575269831_3840x2160_49.jpg',\n",
       " 'https://scale-us-attachments.s3.amazonaws.com/frame_task_5fff6d82c4c83a00339db361_1610575269831_3840x2160_50.jpg',\n",
       " 'https://scale-us-attachments.s3.amazonaws.com/frame_task_5fff6d82c4c83a00339db361_1610575269831_3840x2160_51.jpg',\n",
       " 'https://scale-us-attachments.s3.amazonaws.com/frame_task_5fff6d82c4c83a00339db361_1610575269831_3840x2160_52.jpg',\n",
       " 'https://scale-us-attachments.s3.amazonaws.com/frame_task_5fff6d82c4c83a00339db361_1610575269831_3840x2160_53.jpg',\n",
       " 'https://scale-us-attachments.s3.amazonaws.com/frame_task_5fff6d82c4c83a00339db361_1610575269831_3840x2160_54.jpg',\n",
       " 'https://scale-us-attachments.s3.amazonaws.com/frame_task_5fff6d82c4c83a00339db361_1610575269831_3840x2160_55.jpg',\n",
       " 'https://scale-us-attachments.s3.amazonaws.com/frame_task_5fff6d82c4c83a00339db361_1610575269831_3840x2160_56.jpg',\n",
       " 'https://scale-us-attachments.s3.amazonaws.com/frame_task_5fff6d82c4c83a00339db361_1610575269831_3840x2160_57.jpg',\n",
       " 'https://scale-us-attachments.s3.amazonaws.com/frame_task_5fff6d82c4c83a00339db361_1610575269831_3840x2160_58.jpg',\n",
       " 'https://scale-us-attachments.s3.amazonaws.com/frame_task_5fff6d82c4c83a00339db361_1610575269831_3840x2160_59.jpg',\n",
       " 'https://scale-us-attachments.s3.amazonaws.com/frame_task_5fff6d82c4c83a00339db361_1610575269831_3840x2160_60.jpg',\n",
       " 'https://scale-us-attachments.s3.amazonaws.com/frame_task_5fff6d82c4c83a00339db361_1610575269831_3840x2160_61.jpg',\n",
       " 'https://scale-us-attachments.s3.amazonaws.com/frame_task_5fff6d82c4c83a00339db361_1610575269831_3840x2160_62.jpg',\n",
       " 'https://scale-us-attachments.s3.amazonaws.com/frame_task_5fff6d82c4c83a00339db361_1610575269831_3840x2160_63.jpg',\n",
       " 'https://scale-us-attachments.s3.amazonaws.com/frame_task_5fff6d82c4c83a00339db361_1610575269831_3840x2160_64.jpg',\n",
       " 'https://scale-us-attachments.s3.amazonaws.com/frame_task_5fff6d82c4c83a00339db361_1610575269831_3840x2160_65.jpg',\n",
       " 'https://scale-us-attachments.s3.amazonaws.com/frame_task_5fff6d82c4c83a00339db361_1610575269831_3840x2160_66.jpg',\n",
       " 'https://scale-us-attachments.s3.amazonaws.com/frame_task_5fff6d82c4c83a00339db361_1610575269831_3840x2160_67.jpg',\n",
       " 'https://scale-us-attachments.s3.amazonaws.com/frame_task_5fff6d82c4c83a00339db361_1610575269831_3840x2160_68.jpg',\n",
       " 'https://scale-us-attachments.s3.amazonaws.com/frame_task_5fff6d82c4c83a00339db361_1610575269831_3840x2160_69.jpg',\n",
       " 'https://scale-us-attachments.s3.amazonaws.com/frame_task_5fff6d82c4c83a00339db361_1610575269831_3840x2160_70.jpg',\n",
       " 'https://scale-us-attachments.s3.amazonaws.com/frame_task_5fff6d82c4c83a00339db361_1610575269831_3840x2160_71.jpg',\n",
       " 'https://scale-us-attachments.s3.amazonaws.com/frame_task_5fff6d82c4c83a00339db361_1610575269831_3840x2160_72.jpg',\n",
       " 'https://scale-us-attachments.s3.amazonaws.com/frame_task_5fff6d82c4c83a00339db361_1610575269831_3840x2160_73.jpg',\n",
       " 'https://scale-us-attachments.s3.amazonaws.com/frame_task_5fff6d82c4c83a00339db361_1610575269831_3840x2160_74.jpg',\n",
       " 'https://scale-us-attachments.s3.amazonaws.com/frame_task_5fff6d82c4c83a00339db361_1610575269831_3840x2160_75.jpg',\n",
       " 'https://scale-us-attachments.s3.amazonaws.com/frame_task_5fff6d82c4c83a00339db361_1610575269831_3840x2160_76.jpg',\n",
       " 'https://scale-us-attachments.s3.amazonaws.com/frame_task_5fff6d82c4c83a00339db361_1610575269831_3840x2160_77.jpg',\n",
       " 'https://scale-us-attachments.s3.amazonaws.com/frame_task_5fff6d82c4c83a00339db361_1610575269831_3840x2160_78.jpg',\n",
       " 'https://scale-us-attachments.s3.amazonaws.com/frame_task_5fff6d82c4c83a00339db361_1610575269831_3840x2160_79.jpg',\n",
       " 'https://scale-us-attachments.s3.amazonaws.com/frame_task_5fff6d82c4c83a00339db361_1610575269831_3840x2160_80.jpg',\n",
       " 'https://scale-us-attachments.s3.amazonaws.com/frame_task_5fff6d82c4c83a00339db361_1610575269831_3840x2160_81.jpg',\n",
       " 'https://scale-us-attachments.s3.amazonaws.com/frame_task_5fff6d82c4c83a00339db361_1610575269831_3840x2160_82.jpg',\n",
       " 'https://scale-us-attachments.s3.amazonaws.com/frame_task_5fff6d82c4c83a00339db361_1610575269831_3840x2160_83.jpg',\n",
       " 'https://scale-us-attachments.s3.amazonaws.com/frame_task_5fff6d82c4c83a00339db361_1610575269831_3840x2160_84.jpg',\n",
       " 'https://scale-us-attachments.s3.amazonaws.com/frame_task_5fff6d82c4c83a00339db361_1610575269831_3840x2160_85.jpg',\n",
       " 'https://scale-us-attachments.s3.amazonaws.com/frame_task_5fff6d82c4c83a00339db361_1610575269831_3840x2160_86.jpg',\n",
       " 'https://scale-us-attachments.s3.amazonaws.com/frame_task_5fff6d82c4c83a00339db361_1610575269831_3840x2160_87.jpg',\n",
       " 'https://scale-us-attachments.s3.amazonaws.com/frame_task_5fff6d82c4c83a00339db361_1610575269831_3840x2160_88.jpg',\n",
       " 'https://scale-us-attachments.s3.amazonaws.com/frame_task_5fff6d82c4c83a00339db361_1610575269831_3840x2160_89.jpg',\n",
       " 'https://scale-us-attachments.s3.amazonaws.com/frame_task_5fff6d82c4c83a00339db361_1610575269831_3840x2160_90.jpg',\n",
       " 'https://scale-us-attachments.s3.amazonaws.com/frame_task_5fff6d82c4c83a00339db361_1610575269831_3840x2160_91.jpg',\n",
       " 'https://scale-us-attachments.s3.amazonaws.com/frame_task_5fff6d82c4c83a00339db361_1610575269831_3840x2160_92.jpg',\n",
       " 'https://scale-us-attachments.s3.amazonaws.com/frame_task_5fff6d82c4c83a00339db361_1610575269831_3840x2160_93.jpg',\n",
       " 'https://scale-us-attachments.s3.amazonaws.com/frame_task_5fff6d82c4c83a00339db361_1610575269831_3840x2160_94.jpg',\n",
       " 'https://scale-us-attachments.s3.amazonaws.com/frame_task_5fff6d82c4c83a00339db361_1610575269831_3840x2160_95.jpg',\n",
       " 'https://scale-us-attachments.s3.amazonaws.com/frame_task_5fff6d82c4c83a00339db361_1610575269831_3840x2160_96.jpg',\n",
       " 'https://scale-us-attachments.s3.amazonaws.com/frame_task_5fff6d82c4c83a00339db361_1610575269831_3840x2160_97.jpg',\n",
       " 'https://scale-us-attachments.s3.amazonaws.com/frame_task_5fff6d82c4c83a00339db361_1610575269831_3840x2160_98.jpg',\n",
       " 'https://scale-us-attachments.s3.amazonaws.com/frame_task_5fff6d82c4c83a00339db361_1610575269831_3840x2160_99.jpg',\n",
       " 'https://scale-us-attachments.s3.amazonaws.com/frame_task_5fff6d82c4c83a00339db361_1610575269831_3840x2160_100.jpg',\n",
       " 'https://scale-us-attachments.s3.amazonaws.com/frame_task_5fff6d82c4c83a00339db361_1610575269831_3840x2160_101.jpg',\n",
       " 'https://scale-us-attachments.s3.amazonaws.com/frame_task_5fff6d82c4c83a00339db361_1610575269831_3840x2160_102.jpg',\n",
       " 'https://scale-us-attachments.s3.amazonaws.com/frame_task_5fff6d82c4c83a00339db361_1610575269831_3840x2160_103.jpg',\n",
       " 'https://scale-us-attachments.s3.amazonaws.com/frame_task_5fff6d82c4c83a00339db361_1610575269831_3840x2160_104.jpg',\n",
       " 'https://scale-us-attachments.s3.amazonaws.com/frame_task_5fff6d82c4c83a00339db361_1610575269831_3840x2160_105.jpg',\n",
       " 'https://scale-us-attachments.s3.amazonaws.com/frame_task_5fff6d82c4c83a00339db361_1610575269831_3840x2160_106.jpg',\n",
       " 'https://scale-us-attachments.s3.amazonaws.com/frame_task_5fff6d82c4c83a00339db361_1610575269831_3840x2160_107.jpg',\n",
       " 'https://scale-us-attachments.s3.amazonaws.com/frame_task_5fff6d82c4c83a00339db361_1610575269831_3840x2160_108.jpg',\n",
       " 'https://scale-us-attachments.s3.amazonaws.com/frame_task_5fff6d82c4c83a00339db361_1610575269831_3840x2160_109.jpg',\n",
       " 'https://scale-us-attachments.s3.amazonaws.com/frame_task_5fff6d82c4c83a00339db361_1610575269831_3840x2160_110.jpg',\n",
       " 'https://scale-us-attachments.s3.amazonaws.com/frame_task_5fff6d82c4c83a00339db361_1610575269831_3840x2160_111.jpg',\n",
       " 'https://scale-us-attachments.s3.amazonaws.com/frame_task_5fff6d82c4c83a00339db361_1610575269831_3840x2160_112.jpg',\n",
       " 'https://scale-us-attachments.s3.amazonaws.com/frame_task_5fff6d82c4c83a00339db361_1610575269831_3840x2160_113.jpg',\n",
       " 'https://scale-us-attachments.s3.amazonaws.com/frame_task_5fff6d82c4c83a00339db361_1610575269831_3840x2160_114.jpg',\n",
       " 'https://scale-us-attachments.s3.amazonaws.com/frame_task_5fff6d82c4c83a00339db361_1610575269831_3840x2160_115.jpg',\n",
       " 'https://scale-us-attachments.s3.amazonaws.com/frame_task_5fff6d82c4c83a00339db361_1610575269831_3840x2160_116.jpg',\n",
       " 'https://scale-us-attachments.s3.amazonaws.com/frame_task_5fff6d82c4c83a00339db361_1610575269831_3840x2160_117.jpg',\n",
       " 'https://scale-us-attachments.s3.amazonaws.com/frame_task_5fff6d82c4c83a00339db361_1610575269831_3840x2160_118.jpg',\n",
       " 'https://scale-us-attachments.s3.amazonaws.com/frame_task_5fff6d82c4c83a00339db361_1610575269831_3840x2160_119.jpg',\n",
       " 'https://scale-us-attachments.s3.amazonaws.com/frame_task_5fff6d82c4c83a00339db361_1610575269831_3840x2160_120.jpg',\n",
       " 'https://scale-us-attachments.s3.amazonaws.com/frame_task_5fff6d82c4c83a00339db361_1610575269831_3840x2160_121.jpg',\n",
       " 'https://scale-us-attachments.s3.amazonaws.com/frame_task_5fff6d82c4c83a00339db361_1610575269831_3840x2160_122.jpg',\n",
       " 'https://scale-us-attachments.s3.amazonaws.com/frame_task_5fff6d82c4c83a00339db361_1610575269831_3840x2160_123.jpg',\n",
       " 'https://scale-us-attachments.s3.amazonaws.com/frame_task_5fff6d82c4c83a00339db361_1610575269831_3840x2160_124.jpg',\n",
       " 'https://scale-us-attachments.s3.amazonaws.com/frame_task_5fff6d82c4c83a00339db361_1610575269831_3840x2160_125.jpg',\n",
       " 'https://scale-us-attachments.s3.amazonaws.com/frame_task_5fff6d82c4c83a00339db361_1610575269831_3840x2160_126.jpg',\n",
       " 'https://scale-us-attachments.s3.amazonaws.com/frame_task_5fff6d82c4c83a00339db361_1610575269831_3840x2160_127.jpg',\n",
       " 'https://scale-us-attachments.s3.amazonaws.com/frame_task_5fff6d82c4c83a00339db361_1610575269831_3840x2160_128.jpg',\n",
       " 'https://scale-us-attachments.s3.amazonaws.com/frame_task_5fff6d82c4c83a00339db361_1610575269831_3840x2160_129.jpg',\n",
       " 'https://scale-us-attachments.s3.amazonaws.com/frame_task_5fff6d82c4c83a00339db361_1610575269831_3840x2160_130.jpg',\n",
       " 'https://scale-us-attachments.s3.amazonaws.com/frame_task_5fff6d82c4c83a00339db361_1610575269831_3840x2160_131.jpg',\n",
       " 'https://scale-us-attachments.s3.amazonaws.com/frame_task_5fff6d82c4c83a00339db361_1610575269831_3840x2160_132.jpg',\n",
       " 'https://scale-us-attachments.s3.amazonaws.com/frame_task_5fff6d82c4c83a00339db361_1610575269831_3840x2160_133.jpg',\n",
       " 'https://scale-us-attachments.s3.amazonaws.com/frame_task_5fff6d82c4c83a00339db361_1610575269831_3840x2160_134.jpg',\n",
       " 'https://scale-us-attachments.s3.amazonaws.com/frame_task_5fff6d82c4c83a00339db361_1610575269831_3840x2160_135.jpg',\n",
       " 'https://scale-us-attachments.s3.amazonaws.com/frame_task_5fff6d82c4c83a00339db361_1610575269831_3840x2160_136.jpg',\n",
       " 'https://scale-us-attachments.s3.amazonaws.com/frame_task_5fff6d82c4c83a00339db361_1610575269831_3840x2160_137.jpg',\n",
       " 'https://scale-us-attachments.s3.amazonaws.com/frame_task_5fff6d82c4c83a00339db361_1610575269831_3840x2160_138.jpg',\n",
       " 'https://scale-us-attachments.s3.amazonaws.com/frame_task_5fff6d82c4c83a00339db361_1610575269831_3840x2160_139.jpg',\n",
       " 'https://scale-us-attachments.s3.amazonaws.com/frame_task_5fff6d82c4c83a00339db361_1610575269831_3840x2160_140.jpg',\n",
       " 'https://scale-us-attachments.s3.amazonaws.com/frame_task_5fff6d82c4c83a00339db361_1610575269831_3840x2160_141.jpg',\n",
       " 'https://scale-us-attachments.s3.amazonaws.com/frame_task_5fff6d82c4c83a00339db361_1610575269831_3840x2160_142.jpg',\n",
       " 'https://scale-us-attachments.s3.amazonaws.com/frame_task_5fff6d82c4c83a00339db361_1610575269831_3840x2160_143.jpg',\n",
       " 'https://scale-us-attachments.s3.amazonaws.com/frame_task_5fff6d82c4c83a00339db361_1610575269831_3840x2160_144.jpg',\n",
       " 'https://scale-us-attachments.s3.amazonaws.com/frame_task_5fff6d82c4c83a00339db361_1610575269831_3840x2160_145.jpg',\n",
       " 'https://scale-us-attachments.s3.amazonaws.com/frame_task_5fff6d82c4c83a00339db361_1610575269831_3840x2160_146.jpg',\n",
       " 'https://scale-us-attachments.s3.amazonaws.com/frame_task_5fff6d82c4c83a00339db361_1610575269831_3840x2160_147.jpg',\n",
       " 'https://scale-us-attachments.s3.amazonaws.com/frame_task_5fff6d82c4c83a00339db361_1610575269831_3840x2160_148.jpg',\n",
       " 'https://scale-us-attachments.s3.amazonaws.com/frame_task_5fff6d82c4c83a00339db361_1610575269831_3840x2160_149.jpg',\n",
       " 'https://scale-us-attachments.s3.amazonaws.com/frame_task_5fff6d82c4c83a00339db361_1610575269831_3840x2160_150.jpg',\n",
       " 'https://scale-us-attachments.s3.amazonaws.com/frame_task_5fff6d82c4c83a00339db361_1610575269831_3840x2160_151.jpg',\n",
       " 'https://scale-us-attachments.s3.amazonaws.com/frame_task_5fff6d82c4c83a00339db361_1610575269831_3840x2160_152.jpg',\n",
       " 'https://scale-us-attachments.s3.amazonaws.com/frame_task_5fff6d82c4c83a00339db361_1610575269831_3840x2160_153.jpg',\n",
       " 'https://scale-us-attachments.s3.amazonaws.com/frame_task_5fff6d82c4c83a00339db361_1610575269831_3840x2160_154.jpg',\n",
       " 'https://scale-us-attachments.s3.amazonaws.com/frame_task_5fff6d82c4c83a00339db361_1610575269831_3840x2160_155.jpg',\n",
       " 'https://scale-us-attachments.s3.amazonaws.com/frame_task_5fff6d82c4c83a00339db361_1610575269831_3840x2160_156.jpg',\n",
       " 'https://scale-us-attachments.s3.amazonaws.com/frame_task_5fff6d82c4c83a00339db361_1610575269831_3840x2160_157.jpg',\n",
       " 'https://scale-us-attachments.s3.amazonaws.com/frame_task_5fff6d82c4c83a00339db361_1610575269831_3840x2160_158.jpg',\n",
       " 'https://scale-us-attachments.s3.amazonaws.com/frame_task_5fff6d82c4c83a00339db361_1610575269831_3840x2160_159.jpg',\n",
       " 'https://scale-us-attachments.s3.amazonaws.com/frame_task_5fff6d82c4c83a00339db361_1610575269831_3840x2160_160.jpg',\n",
       " 'https://scale-us-attachments.s3.amazonaws.com/frame_task_5fff6d82c4c83a00339db361_1610575269831_3840x2160_161.jpg',\n",
       " 'https://scale-us-attachments.s3.amazonaws.com/frame_task_5fff6d82c4c83a00339db361_1610575269831_3840x2160_162.jpg',\n",
       " 'https://scale-us-attachments.s3.amazonaws.com/frame_task_5fff6d82c4c83a00339db361_1610575269831_3840x2160_163.jpg',\n",
       " 'https://scale-us-attachments.s3.amazonaws.com/frame_task_5fff6d82c4c83a00339db361_1610575269831_3840x2160_164.jpg',\n",
       " 'https://scale-us-attachments.s3.amazonaws.com/frame_task_5fff6d82c4c83a00339db361_1610575269831_3840x2160_165.jpg',\n",
       " 'https://scale-us-attachments.s3.amazonaws.com/frame_task_5fff6d82c4c83a00339db361_1610575269831_3840x2160_166.jpg',\n",
       " 'https://scale-us-attachments.s3.amazonaws.com/frame_task_5fff6d82c4c83a00339db361_1610575269831_3840x2160_167.jpg',\n",
       " 'https://scale-us-attachments.s3.amazonaws.com/frame_task_5fff6d82c4c83a00339db361_1610575269831_3840x2160_168.jpg',\n",
       " 'https://scale-us-attachments.s3.amazonaws.com/frame_task_5fff6d82c4c83a00339db361_1610575269831_3840x2160_169.jpg',\n",
       " 'https://scale-us-attachments.s3.amazonaws.com/frame_task_5fff6d82c4c83a00339db361_1610575269831_3840x2160_170.jpg',\n",
       " 'https://scale-us-attachments.s3.amazonaws.com/frame_task_5fff6d82c4c83a00339db361_1610575269831_3840x2160_171.jpg',\n",
       " 'https://scale-us-attachments.s3.amazonaws.com/frame_task_5fff6d82c4c83a00339db361_1610575269831_3840x2160_172.jpg',\n",
       " 'https://scale-us-attachments.s3.amazonaws.com/frame_task_5fff6d82c4c83a00339db361_1610575269831_3840x2160_173.jpg',\n",
       " 'https://scale-us-attachments.s3.amazonaws.com/frame_task_5fff6d82c4c83a00339db361_1610575269831_3840x2160_174.jpg',\n",
       " 'https://scale-us-attachments.s3.amazonaws.com/frame_task_5fff6d82c4c83a00339db361_1610575269831_3840x2160_175.jpg',\n",
       " 'https://scale-us-attachments.s3.amazonaws.com/frame_task_5fff6d82c4c83a00339db361_1610575269831_3840x2160_176.jpg',\n",
       " 'https://scale-us-attachments.s3.amazonaws.com/frame_task_5fff6d82c4c83a00339db361_1610575269831_3840x2160_177.jpg',\n",
       " 'https://scale-us-attachments.s3.amazonaws.com/frame_task_5fff6d82c4c83a00339db361_1610575269831_3840x2160_178.jpg',\n",
       " 'https://scale-us-attachments.s3.amazonaws.com/frame_task_5fff6d82c4c83a00339db361_1610575269831_3840x2160_179.jpg',\n",
       " 'https://scale-us-attachments.s3.amazonaws.com/frame_task_5fff6d82c4c83a00339db361_1610575269831_3840x2160_180.jpg',\n",
       " 'https://scale-us-attachments.s3.amazonaws.com/frame_task_5fff6d82c4c83a00339db361_1610575269831_3840x2160_181.jpg',\n",
       " 'https://scale-us-attachments.s3.amazonaws.com/frame_task_5fff6d82c4c83a00339db361_1610575269831_3840x2160_182.jpg',\n",
       " 'https://scale-us-attachments.s3.amazonaws.com/frame_task_5fff6d82c4c83a00339db361_1610575269831_3840x2160_183.jpg',\n",
       " 'https://scale-us-attachments.s3.amazonaws.com/frame_task_5fff6d82c4c83a00339db361_1610575269831_3840x2160_184.jpg',\n",
       " 'https://scale-us-attachments.s3.amazonaws.com/frame_task_5fff6d82c4c83a00339db361_1610575269831_3840x2160_185.jpg',\n",
       " 'https://scale-us-attachments.s3.amazonaws.com/frame_task_5fff6d82c4c83a00339db361_1610575269831_3840x2160_186.jpg',\n",
       " 'https://scale-us-attachments.s3.amazonaws.com/frame_task_5fff6d82c4c83a00339db361_1610575269831_3840x2160_187.jpg',\n",
       " 'https://scale-us-attachments.s3.amazonaws.com/frame_task_5fff6d82c4c83a00339db361_1610575269831_3840x2160_188.jpg',\n",
       " 'https://scale-us-attachments.s3.amazonaws.com/frame_task_5fff6d82c4c83a00339db361_1610575269831_3840x2160_189.jpg',\n",
       " 'https://scale-us-attachments.s3.amazonaws.com/frame_task_5fff6d82c4c83a00339db361_1610575269831_3840x2160_190.jpg',\n",
       " 'https://scale-us-attachments.s3.amazonaws.com/frame_task_5fff6d82c4c83a00339db361_1610575269831_3840x2160_191.jpg',\n",
       " 'https://scale-us-attachments.s3.amazonaws.com/frame_task_5fff6d82c4c83a00339db361_1610575269831_3840x2160_192.jpg',\n",
       " 'https://scale-us-attachments.s3.amazonaws.com/frame_task_5fff6d82c4c83a00339db361_1610575269831_3840x2160_193.jpg',\n",
       " 'https://scale-us-attachments.s3.amazonaws.com/frame_task_5fff6d82c4c83a00339db361_1610575269831_3840x2160_194.jpg',\n",
       " 'https://scale-us-attachments.s3.amazonaws.com/frame_task_5fff6d82c4c83a00339db361_1610575269831_3840x2160_195.jpg',\n",
       " 'https://scale-us-attachments.s3.amazonaws.com/frame_task_5fff6d82c4c83a00339db361_1610575269831_3840x2160_196.jpg',\n",
       " 'https://scale-us-attachments.s3.amazonaws.com/frame_task_5fff6d82c4c83a00339db361_1610575269831_3840x2160_197.jpg',\n",
       " 'https://scale-us-attachments.s3.amazonaws.com/frame_task_5fff6d82c4c83a00339db361_1610575269831_3840x2160_198.jpg',\n",
       " 'https://scale-us-attachments.s3.amazonaws.com/frame_task_5fff6d82c4c83a00339db361_1610575269831_3840x2160_199.jpg',\n",
       " 'https://scale-us-attachments.s3.amazonaws.com/frame_task_5fff6d82c4c83a00339db361_1610575269831_3840x2160_200.jpg',\n",
       " 'https://scale-us-attachments.s3.amazonaws.com/frame_task_5fff6d82c4c83a00339db361_1610575269831_3840x2160_201.jpg',\n",
       " 'https://scale-us-attachments.s3.amazonaws.com/frame_task_5fff6d82c4c83a00339db361_1610575269831_3840x2160_202.jpg',\n",
       " 'https://scale-us-attachments.s3.amazonaws.com/frame_task_5fff6d82c4c83a00339db361_1610575269831_3840x2160_203.jpg',\n",
       " 'https://scale-us-attachments.s3.amazonaws.com/frame_task_5fff6d82c4c83a00339db361_1610575269831_3840x2160_204.jpg',\n",
       " 'https://scale-us-attachments.s3.amazonaws.com/frame_task_5fff6d82c4c83a00339db361_1610575269831_3840x2160_205.jpg',\n",
       " 'https://scale-us-attachments.s3.amazonaws.com/frame_task_5fff6d82c4c83a00339db361_1610575269831_3840x2160_206.jpg',\n",
       " 'https://scale-us-attachments.s3.amazonaws.com/frame_task_5fff6d82c4c83a00339db361_1610575269831_3840x2160_207.jpg']"
      ]
     },
     "execution_count": 137,
     "metadata": {},
     "output_type": "execute_result"
    }
   ],
   "source": [
    "task_json['task']['processed_attachments']"
   ]
  },
  {
   "cell_type": "markdown",
   "id": "entitled-snake",
   "metadata": {},
   "source": [
    "## Main"
   ]
  },
  {
   "cell_type": "markdown",
   "id": "informational-seven",
   "metadata": {},
   "source": [
    "#### For raw links to s3 images using the corp s3 converstion tool\n",
    "\n",
    "You need to grab all the processed_images links and convert them to downloadable links (via corp tool) saving them to the variable 'links'\n"
   ]
  },
  {
   "cell_type": "code",
   "execution_count": 108,
   "id": "inside-internet",
   "metadata": {},
   "outputs": [],
   "source": [
    "for i, frame_url in enumerate(links):\n",
    "    annotation = annotations[i]['annotations']\n",
    "    padded_index_string = str(i).rjust(3,'0')\n",
    "    output_filename = './out/img' + padded_index_string\n",
    "    main(frame_url, annotation, output_filename)"
   ]
  },
  {
   "cell_type": "markdown",
   "id": "extraordinary-straight",
   "metadata": {},
   "source": [
    "#### specific for files that can be downloaded without s3 auth corp tool conversion\n"
   ]
  },
  {
   "cell_type": "code",
   "execution_count": 63,
   "id": "recent-short",
   "metadata": {
    "collapsed": true
   },
   "outputs": [
    {
     "ename": "HTTPError",
     "evalue": "HTTP Error 403: Forbidden",
     "output_type": "error",
     "traceback": [
      "\u001b[0;31m---------------------------------------------------------------------------\u001b[0m",
      "\u001b[0;31mHTTPError\u001b[0m                                 Traceback (most recent call last)",
      "\u001b[0;32m<ipython-input-63-3d030340a3a7>\u001b[0m in \u001b[0;36m<module>\u001b[0;34m\u001b[0m\n\u001b[1;32m      3\u001b[0m     \u001b[0mpadded_index_string\u001b[0m \u001b[0;34m=\u001b[0m \u001b[0mstr\u001b[0m\u001b[0;34m(\u001b[0m\u001b[0mi\u001b[0m\u001b[0;34m)\u001b[0m\u001b[0;34m.\u001b[0m\u001b[0mrjust\u001b[0m\u001b[0;34m(\u001b[0m\u001b[0;36m3\u001b[0m\u001b[0;34m,\u001b[0m\u001b[0;34m'0'\u001b[0m\u001b[0;34m)\u001b[0m\u001b[0;34m\u001b[0m\u001b[0;34m\u001b[0m\u001b[0m\n\u001b[1;32m      4\u001b[0m     \u001b[0moutput_filename\u001b[0m \u001b[0;34m=\u001b[0m \u001b[0;34m'./out3/img'\u001b[0m \u001b[0;34m+\u001b[0m \u001b[0mpadded_index_string\u001b[0m\u001b[0;34m\u001b[0m\u001b[0;34m\u001b[0m\u001b[0m\n\u001b[0;32m----> 5\u001b[0;31m     \u001b[0mmain\u001b[0m\u001b[0;34m(\u001b[0m\u001b[0mframe_url\u001b[0m\u001b[0;34m,\u001b[0m \u001b[0mannotation\u001b[0m\u001b[0;34m,\u001b[0m \u001b[0moutput_filename\u001b[0m\u001b[0;34m)\u001b[0m\u001b[0;34m\u001b[0m\u001b[0;34m\u001b[0m\u001b[0m\n\u001b[0m",
      "\u001b[0;32m<ipython-input-55-d7211604e0ae>\u001b[0m in \u001b[0;36mmain\u001b[0;34m(url, annotations, out_file)\u001b[0m\n\u001b[1;32m      2\u001b[0m \u001b[0;34m\u001b[0m\u001b[0m\n\u001b[1;32m      3\u001b[0m \u001b[0;32mdef\u001b[0m \u001b[0mmain\u001b[0m\u001b[0;34m(\u001b[0m\u001b[0murl\u001b[0m\u001b[0;34m,\u001b[0m \u001b[0mannotations\u001b[0m\u001b[0;34m,\u001b[0m \u001b[0mout_file\u001b[0m\u001b[0;34m=\u001b[0m\u001b[0;34m'out'\u001b[0m\u001b[0;34m)\u001b[0m\u001b[0;34m:\u001b[0m\u001b[0;34m\u001b[0m\u001b[0;34m\u001b[0m\u001b[0m\n\u001b[0;32m----> 4\u001b[0;31m     \u001b[0mimg\u001b[0m \u001b[0;34m=\u001b[0m \u001b[0murl_to_image\u001b[0m\u001b[0;34m(\u001b[0m\u001b[0murl\u001b[0m\u001b[0;34m)\u001b[0m\u001b[0;34m\u001b[0m\u001b[0;34m\u001b[0m\u001b[0m\n\u001b[0m\u001b[1;32m      5\u001b[0m     \u001b[0moverlay\u001b[0m \u001b[0;34m=\u001b[0m \u001b[0mimg\u001b[0m\u001b[0;34m.\u001b[0m\u001b[0mcopy\u001b[0m\u001b[0;34m(\u001b[0m\u001b[0;34m)\u001b[0m\u001b[0;34m\u001b[0m\u001b[0;34m\u001b[0m\u001b[0m\n\u001b[1;32m      6\u001b[0m \u001b[0;34m\u001b[0m\u001b[0m\n",
      "\u001b[0;32m<ipython-input-53-9e5ede75dd6d>\u001b[0m in \u001b[0;36murl_to_image\u001b[0;34m(url)\u001b[0m\n\u001b[1;32m      1\u001b[0m \u001b[0;32mdef\u001b[0m \u001b[0murl_to_image\u001b[0m\u001b[0;34m(\u001b[0m\u001b[0murl\u001b[0m\u001b[0;34m)\u001b[0m\u001b[0;34m:\u001b[0m\u001b[0;34m\u001b[0m\u001b[0;34m\u001b[0m\u001b[0m\n\u001b[1;32m      2\u001b[0m     \u001b[0mreq\u001b[0m \u001b[0;34m=\u001b[0m \u001b[0mRequest\u001b[0m\u001b[0;34m(\u001b[0m\u001b[0murl\u001b[0m\u001b[0;34m,\u001b[0m \u001b[0mheaders\u001b[0m\u001b[0;34m=\u001b[0m\u001b[0;34m{\u001b[0m\u001b[0;34m'User-Agent'\u001b[0m\u001b[0;34m:\u001b[0m \u001b[0;34m'Mozilla/5.0'\u001b[0m\u001b[0;34m}\u001b[0m\u001b[0;34m)\u001b[0m\u001b[0;34m\u001b[0m\u001b[0;34m\u001b[0m\u001b[0m\n\u001b[0;32m----> 3\u001b[0;31m     \u001b[0mpage\u001b[0m \u001b[0;34m=\u001b[0m \u001b[0murlopen\u001b[0m\u001b[0;34m(\u001b[0m\u001b[0mreq\u001b[0m\u001b[0;34m)\u001b[0m\u001b[0;34m.\u001b[0m\u001b[0mread\u001b[0m\u001b[0;34m(\u001b[0m\u001b[0;34m)\u001b[0m\u001b[0;34m\u001b[0m\u001b[0;34m\u001b[0m\u001b[0m\n\u001b[0m\u001b[1;32m      4\u001b[0m     \u001b[0mimage\u001b[0m \u001b[0;34m=\u001b[0m \u001b[0mnp\u001b[0m\u001b[0;34m.\u001b[0m\u001b[0masarray\u001b[0m\u001b[0;34m(\u001b[0m\u001b[0mbytearray\u001b[0m\u001b[0;34m(\u001b[0m\u001b[0mpage\u001b[0m\u001b[0;34m)\u001b[0m\u001b[0;34m,\u001b[0m \u001b[0mdtype\u001b[0m\u001b[0;34m=\u001b[0m\u001b[0;34m\"uint8\"\u001b[0m\u001b[0;34m)\u001b[0m\u001b[0;34m\u001b[0m\u001b[0;34m\u001b[0m\u001b[0m\n\u001b[1;32m      5\u001b[0m     \u001b[0mimage\u001b[0m \u001b[0;34m=\u001b[0m \u001b[0mcv2\u001b[0m\u001b[0;34m.\u001b[0m\u001b[0mimdecode\u001b[0m\u001b[0;34m(\u001b[0m\u001b[0mimage\u001b[0m\u001b[0;34m,\u001b[0m \u001b[0mcv2\u001b[0m\u001b[0;34m.\u001b[0m\u001b[0mIMREAD_COLOR\u001b[0m\u001b[0;34m)\u001b[0m\u001b[0;34m\u001b[0m\u001b[0;34m\u001b[0m\u001b[0m\n",
      "\u001b[0;32m~/.pyenv/versions/3.7.5/lib/python3.7/urllib/request.py\u001b[0m in \u001b[0;36murlopen\u001b[0;34m(url, data, timeout, cafile, capath, cadefault, context)\u001b[0m\n\u001b[1;32m    220\u001b[0m     \u001b[0;32melse\u001b[0m\u001b[0;34m:\u001b[0m\u001b[0;34m\u001b[0m\u001b[0;34m\u001b[0m\u001b[0m\n\u001b[1;32m    221\u001b[0m         \u001b[0mopener\u001b[0m \u001b[0;34m=\u001b[0m \u001b[0m_opener\u001b[0m\u001b[0;34m\u001b[0m\u001b[0;34m\u001b[0m\u001b[0m\n\u001b[0;32m--> 222\u001b[0;31m     \u001b[0;32mreturn\u001b[0m \u001b[0mopener\u001b[0m\u001b[0;34m.\u001b[0m\u001b[0mopen\u001b[0m\u001b[0;34m(\u001b[0m\u001b[0murl\u001b[0m\u001b[0;34m,\u001b[0m \u001b[0mdata\u001b[0m\u001b[0;34m,\u001b[0m \u001b[0mtimeout\u001b[0m\u001b[0;34m)\u001b[0m\u001b[0;34m\u001b[0m\u001b[0;34m\u001b[0m\u001b[0m\n\u001b[0m\u001b[1;32m    223\u001b[0m \u001b[0;34m\u001b[0m\u001b[0m\n\u001b[1;32m    224\u001b[0m \u001b[0;32mdef\u001b[0m \u001b[0minstall_opener\u001b[0m\u001b[0;34m(\u001b[0m\u001b[0mopener\u001b[0m\u001b[0;34m)\u001b[0m\u001b[0;34m:\u001b[0m\u001b[0;34m\u001b[0m\u001b[0;34m\u001b[0m\u001b[0m\n",
      "\u001b[0;32m~/.pyenv/versions/3.7.5/lib/python3.7/urllib/request.py\u001b[0m in \u001b[0;36mopen\u001b[0;34m(self, fullurl, data, timeout)\u001b[0m\n\u001b[1;32m    529\u001b[0m         \u001b[0;32mfor\u001b[0m \u001b[0mprocessor\u001b[0m \u001b[0;32min\u001b[0m \u001b[0mself\u001b[0m\u001b[0;34m.\u001b[0m\u001b[0mprocess_response\u001b[0m\u001b[0;34m.\u001b[0m\u001b[0mget\u001b[0m\u001b[0;34m(\u001b[0m\u001b[0mprotocol\u001b[0m\u001b[0;34m,\u001b[0m \u001b[0;34m[\u001b[0m\u001b[0;34m]\u001b[0m\u001b[0;34m)\u001b[0m\u001b[0;34m:\u001b[0m\u001b[0;34m\u001b[0m\u001b[0;34m\u001b[0m\u001b[0m\n\u001b[1;32m    530\u001b[0m             \u001b[0mmeth\u001b[0m \u001b[0;34m=\u001b[0m \u001b[0mgetattr\u001b[0m\u001b[0;34m(\u001b[0m\u001b[0mprocessor\u001b[0m\u001b[0;34m,\u001b[0m \u001b[0mmeth_name\u001b[0m\u001b[0;34m)\u001b[0m\u001b[0;34m\u001b[0m\u001b[0;34m\u001b[0m\u001b[0m\n\u001b[0;32m--> 531\u001b[0;31m             \u001b[0mresponse\u001b[0m \u001b[0;34m=\u001b[0m \u001b[0mmeth\u001b[0m\u001b[0;34m(\u001b[0m\u001b[0mreq\u001b[0m\u001b[0;34m,\u001b[0m \u001b[0mresponse\u001b[0m\u001b[0;34m)\u001b[0m\u001b[0;34m\u001b[0m\u001b[0;34m\u001b[0m\u001b[0m\n\u001b[0m\u001b[1;32m    532\u001b[0m \u001b[0;34m\u001b[0m\u001b[0m\n\u001b[1;32m    533\u001b[0m         \u001b[0;32mreturn\u001b[0m \u001b[0mresponse\u001b[0m\u001b[0;34m\u001b[0m\u001b[0;34m\u001b[0m\u001b[0m\n",
      "\u001b[0;32m~/.pyenv/versions/3.7.5/lib/python3.7/urllib/request.py\u001b[0m in \u001b[0;36mhttp_response\u001b[0;34m(self, request, response)\u001b[0m\n\u001b[1;32m    639\u001b[0m         \u001b[0;32mif\u001b[0m \u001b[0;32mnot\u001b[0m \u001b[0;34m(\u001b[0m\u001b[0;36m200\u001b[0m \u001b[0;34m<=\u001b[0m \u001b[0mcode\u001b[0m \u001b[0;34m<\u001b[0m \u001b[0;36m300\u001b[0m\u001b[0;34m)\u001b[0m\u001b[0;34m:\u001b[0m\u001b[0;34m\u001b[0m\u001b[0;34m\u001b[0m\u001b[0m\n\u001b[1;32m    640\u001b[0m             response = self.parent.error(\n\u001b[0;32m--> 641\u001b[0;31m                 'http', request, response, code, msg, hdrs)\n\u001b[0m\u001b[1;32m    642\u001b[0m \u001b[0;34m\u001b[0m\u001b[0m\n\u001b[1;32m    643\u001b[0m         \u001b[0;32mreturn\u001b[0m \u001b[0mresponse\u001b[0m\u001b[0;34m\u001b[0m\u001b[0;34m\u001b[0m\u001b[0m\n",
      "\u001b[0;32m~/.pyenv/versions/3.7.5/lib/python3.7/urllib/request.py\u001b[0m in \u001b[0;36merror\u001b[0;34m(self, proto, *args)\u001b[0m\n\u001b[1;32m    567\u001b[0m         \u001b[0;32mif\u001b[0m \u001b[0mhttp_err\u001b[0m\u001b[0;34m:\u001b[0m\u001b[0;34m\u001b[0m\u001b[0;34m\u001b[0m\u001b[0m\n\u001b[1;32m    568\u001b[0m             \u001b[0margs\u001b[0m \u001b[0;34m=\u001b[0m \u001b[0;34m(\u001b[0m\u001b[0mdict\u001b[0m\u001b[0;34m,\u001b[0m \u001b[0;34m'default'\u001b[0m\u001b[0;34m,\u001b[0m \u001b[0;34m'http_error_default'\u001b[0m\u001b[0;34m)\u001b[0m \u001b[0;34m+\u001b[0m \u001b[0morig_args\u001b[0m\u001b[0;34m\u001b[0m\u001b[0;34m\u001b[0m\u001b[0m\n\u001b[0;32m--> 569\u001b[0;31m             \u001b[0;32mreturn\u001b[0m \u001b[0mself\u001b[0m\u001b[0;34m.\u001b[0m\u001b[0m_call_chain\u001b[0m\u001b[0;34m(\u001b[0m\u001b[0;34m*\u001b[0m\u001b[0margs\u001b[0m\u001b[0;34m)\u001b[0m\u001b[0;34m\u001b[0m\u001b[0;34m\u001b[0m\u001b[0m\n\u001b[0m\u001b[1;32m    570\u001b[0m \u001b[0;34m\u001b[0m\u001b[0m\n\u001b[1;32m    571\u001b[0m \u001b[0;31m# XXX probably also want an abstract factory that knows when it makes\u001b[0m\u001b[0;34m\u001b[0m\u001b[0;34m\u001b[0m\u001b[0;34m\u001b[0m\u001b[0m\n",
      "\u001b[0;32m~/.pyenv/versions/3.7.5/lib/python3.7/urllib/request.py\u001b[0m in \u001b[0;36m_call_chain\u001b[0;34m(self, chain, kind, meth_name, *args)\u001b[0m\n\u001b[1;32m    501\u001b[0m         \u001b[0;32mfor\u001b[0m \u001b[0mhandler\u001b[0m \u001b[0;32min\u001b[0m \u001b[0mhandlers\u001b[0m\u001b[0;34m:\u001b[0m\u001b[0;34m\u001b[0m\u001b[0;34m\u001b[0m\u001b[0m\n\u001b[1;32m    502\u001b[0m             \u001b[0mfunc\u001b[0m \u001b[0;34m=\u001b[0m \u001b[0mgetattr\u001b[0m\u001b[0;34m(\u001b[0m\u001b[0mhandler\u001b[0m\u001b[0;34m,\u001b[0m \u001b[0mmeth_name\u001b[0m\u001b[0;34m)\u001b[0m\u001b[0;34m\u001b[0m\u001b[0;34m\u001b[0m\u001b[0m\n\u001b[0;32m--> 503\u001b[0;31m             \u001b[0mresult\u001b[0m \u001b[0;34m=\u001b[0m \u001b[0mfunc\u001b[0m\u001b[0;34m(\u001b[0m\u001b[0;34m*\u001b[0m\u001b[0margs\u001b[0m\u001b[0;34m)\u001b[0m\u001b[0;34m\u001b[0m\u001b[0;34m\u001b[0m\u001b[0m\n\u001b[0m\u001b[1;32m    504\u001b[0m             \u001b[0;32mif\u001b[0m \u001b[0mresult\u001b[0m \u001b[0;32mis\u001b[0m \u001b[0;32mnot\u001b[0m \u001b[0;32mNone\u001b[0m\u001b[0;34m:\u001b[0m\u001b[0;34m\u001b[0m\u001b[0;34m\u001b[0m\u001b[0m\n\u001b[1;32m    505\u001b[0m                 \u001b[0;32mreturn\u001b[0m \u001b[0mresult\u001b[0m\u001b[0;34m\u001b[0m\u001b[0;34m\u001b[0m\u001b[0m\n",
      "\u001b[0;32m~/.pyenv/versions/3.7.5/lib/python3.7/urllib/request.py\u001b[0m in \u001b[0;36mhttp_error_default\u001b[0;34m(self, req, fp, code, msg, hdrs)\u001b[0m\n\u001b[1;32m    647\u001b[0m \u001b[0;32mclass\u001b[0m \u001b[0mHTTPDefaultErrorHandler\u001b[0m\u001b[0;34m(\u001b[0m\u001b[0mBaseHandler\u001b[0m\u001b[0;34m)\u001b[0m\u001b[0;34m:\u001b[0m\u001b[0;34m\u001b[0m\u001b[0;34m\u001b[0m\u001b[0m\n\u001b[1;32m    648\u001b[0m     \u001b[0;32mdef\u001b[0m \u001b[0mhttp_error_default\u001b[0m\u001b[0;34m(\u001b[0m\u001b[0mself\u001b[0m\u001b[0;34m,\u001b[0m \u001b[0mreq\u001b[0m\u001b[0;34m,\u001b[0m \u001b[0mfp\u001b[0m\u001b[0;34m,\u001b[0m \u001b[0mcode\u001b[0m\u001b[0;34m,\u001b[0m \u001b[0mmsg\u001b[0m\u001b[0;34m,\u001b[0m \u001b[0mhdrs\u001b[0m\u001b[0;34m)\u001b[0m\u001b[0;34m:\u001b[0m\u001b[0;34m\u001b[0m\u001b[0;34m\u001b[0m\u001b[0m\n\u001b[0;32m--> 649\u001b[0;31m         \u001b[0;32mraise\u001b[0m \u001b[0mHTTPError\u001b[0m\u001b[0;34m(\u001b[0m\u001b[0mreq\u001b[0m\u001b[0;34m.\u001b[0m\u001b[0mfull_url\u001b[0m\u001b[0;34m,\u001b[0m \u001b[0mcode\u001b[0m\u001b[0;34m,\u001b[0m \u001b[0mmsg\u001b[0m\u001b[0;34m,\u001b[0m \u001b[0mhdrs\u001b[0m\u001b[0;34m,\u001b[0m \u001b[0mfp\u001b[0m\u001b[0;34m)\u001b[0m\u001b[0;34m\u001b[0m\u001b[0;34m\u001b[0m\u001b[0m\n\u001b[0m\u001b[1;32m    650\u001b[0m \u001b[0;34m\u001b[0m\u001b[0m\n\u001b[1;32m    651\u001b[0m \u001b[0;32mclass\u001b[0m \u001b[0mHTTPRedirectHandler\u001b[0m\u001b[0;34m(\u001b[0m\u001b[0mBaseHandler\u001b[0m\u001b[0;34m)\u001b[0m\u001b[0;34m:\u001b[0m\u001b[0;34m\u001b[0m\u001b[0;34m\u001b[0m\u001b[0m\n",
      "\u001b[0;31mHTTPError\u001b[0m: HTTP Error 403: Forbidden"
     ]
    }
   ],
   "source": [
    "# specific for files that can be downloaded without s3 auth\n",
    "for i, frame_url in enumerate(task_json['processed_attachments']):\n",
    "    annotation = annotations[i]['annotations']\n",
    "    padded_index_string = str(i).rjust(3,'0')\n",
    "    output_filename = './out/img' + padded_index_string\n",
    "    main(frame_url, annotation, output_filename)"
   ]
  },
  {
   "cell_type": "code",
   "execution_count": 113,
   "id": "prompt-gibson",
   "metadata": {},
   "outputs": [],
   "source": [
    "# processing video links"
   ]
  },
  {
   "cell_type": "code",
   "execution_count": 65,
   "id": "wound-balance",
   "metadata": {},
   "outputs": [],
   "source": [
    "links = links.splitlines()"
   ]
  },
  {
   "cell_type": "code",
   "execution_count": 66,
   "id": "passing-requirement",
   "metadata": {},
   "outputs": [
    {
     "data": {
      "text/plain": [
       "243"
      ]
     },
     "execution_count": 66,
     "metadata": {},
     "output_type": "execute_result"
    }
   ],
   "source": [
    "len(links)"
   ]
  },
  {
   "cell_type": "markdown",
   "id": "continuing-collect",
   "metadata": {},
   "source": [
    "\n",
    "# Conversion"
   ]
  },
  {
   "cell_type": "code",
   "execution_count": 109,
   "id": "revised-aaron",
   "metadata": {},
   "outputs": [],
   "source": [
    "frame_rate = task_json['params']['frame_rate']"
   ]
  },
  {
   "cell_type": "code",
   "execution_count": 110,
   "id": "realistic-chambers",
   "metadata": {},
   "outputs": [
    {
     "name": "stdout",
     "output_type": "stream",
     "text": [
      "15\n"
     ]
    }
   ],
   "source": [
    "print(frame_rate)"
   ]
  },
  {
   "cell_type": "code",
   "execution_count": 111,
   "id": "electric-burns",
   "metadata": {},
   "outputs": [],
   "source": [
    "# set the frame rate manually\n",
    "# frame_rate = 5"
   ]
  },
  {
   "cell_type": "code",
   "execution_count": 112,
   "id": "applied-adoption",
   "metadata": {},
   "outputs": [
    {
     "data": {
      "text/plain": [
       "0"
      ]
     },
     "execution_count": 112,
     "metadata": {},
     "output_type": "execute_result"
    }
   ],
   "source": [
    "# convert all the images in the 'out' folder into a mp4 video\n",
    "os.system(\"ffmpeg -r \" + str(frame_rate) + \" -i ./out/img%03d.png parking_lot.mp4\")"
   ]
  }
 ],
 "metadata": {
  "kernelspec": {
   "display_name": "3.7.5",
   "language": "python",
   "name": "3.7.5"
  },
  "language_info": {
   "codemirror_mode": {
    "name": "ipython",
    "version": 3
   },
   "file_extension": ".py",
   "mimetype": "text/x-python",
   "name": "python",
   "nbconvert_exporter": "python",
   "pygments_lexer": "ipython3",
   "version": "3.7.5"
  }
 },
 "nbformat": 4,
 "nbformat_minor": 5
}
